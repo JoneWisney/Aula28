{
 "cells": [
  {
   "cell_type": "markdown",
   "id": "70d2d046",
   "metadata": {
    "slideshow": {
     "slide_type": "slide"
    }
   },
   "source": [
    "<img src=\"imagens/Slide1.png\">"
   ]
  },
  {
   "cell_type": "markdown",
   "id": "77ba7148",
   "metadata": {
    "slideshow": {
     "slide_type": "slide"
    }
   },
   "source": [
    "# Parte: 01. API - Visão Geral"
   ]
  },
  {
   "cell_type": "markdown",
   "id": "d767de97",
   "metadata": {
    "slideshow": {
     "slide_type": "subslide"
    }
   },
   "source": [
    "<img src=\"imagens/Slide2.png\">"
   ]
  },
  {
   "cell_type": "markdown",
   "id": "903adff0",
   "metadata": {
    "slideshow": {
     "slide_type": "subslide"
    }
   },
   "source": [
    "* Talvez você já tenha ouvido falar sobre algum dos temas a seguir.\n",
    "* Acredito que alguns deles já lhe sejam familiar, outros nem tanto."
   ]
  },
  {
   "cell_type": "markdown",
   "id": "26989bca",
   "metadata": {
    "slideshow": {
     "slide_type": "subslide"
    }
   },
   "source": [
    "<img src=\"imagens/Slide3.png\">"
   ]
  },
  {
   "cell_type": "markdown",
   "id": "5b193c6c",
   "metadata": {
    "slideshow": {
     "slide_type": "subslide"
    }
   },
   "source": [
    "A vídeo a seguir nós dará uma visão geral do que é uma API e como ela funciona. Veremos com mais detalhes a seguir.\n",
    "\n",
    "https://www.youtube.com/watch?v=s7wmiS2mSXY "
   ]
  },
  {
   "cell_type": "markdown",
   "id": "9a1493d8",
   "metadata": {
    "slideshow": {
     "slide_type": "slide"
    }
   },
   "source": [
    "<img src=\"imagens/Slide4.png\">"
   ]
  },
  {
   "cell_type": "markdown",
   "id": "08e7bdfb",
   "metadata": {
    "slideshow": {
     "slide_type": "slide"
    }
   },
   "source": [
    "# Parte: 02. API - Ferramentas"
   ]
  },
  {
   "cell_type": "markdown",
   "id": "290dd1f8",
   "metadata": {
    "slideshow": {
     "slide_type": "subslide"
    }
   },
   "source": [
    "<img src=\"imagens/Slide5.png\">"
   ]
  },
  {
   "cell_type": "markdown",
   "id": "f56c4dc9",
   "metadata": {
    "slideshow": {
     "slide_type": "subslide"
    }
   },
   "source": [
    "<img src=\"imagens/Slide6.png\">"
   ]
  },
  {
   "cell_type": "markdown",
   "id": "15e5ecdd",
   "metadata": {
    "slideshow": {
     "slide_type": "subslide"
    }
   },
   "source": [
    "**Postman:**\n",
    "* O Postman é uma plataforma de colaboração para o desenvolvimento de APIs (Interfaces de Programação de Aplicativos). Ele fornece um ambiente amigável para criar, testar e documentar APIs. Com o Postman, os desenvolvedores podem enviar solicitações HTTP para uma API e visualizar as respostas retornadas. Ele permite testar diferentes métodos HTTP, como GET, POST, PUT e DELETE, e também é possível configurar cabeçalhos personalizados, autenticação e parâmetros de consulta.\n",
    "\n",
    "**VS Code:**\n",
    "* O Visual Studio Code, também conhecido como VS Code, é um editor de código-fonte desenvolvido pela Microsoft. Ele é amplamente utilizado por programadores de diferentes linguagens de programação devido à sua flexibilidade e extensibilidade. O VS Code oferece recursos como realce de sintaxe, auto-completar, depuração integrada, controle de versão, gerenciamento de pacotes e muito mais.\n",
    "\n",
    "**Swagger:**\n",
    "* Swagger é um conjunto de ferramentas para projetar, criar, documentar e consumir APIs RESTful. A especificação Swagger, agora conhecida como OpenAPI Specification (OAS), define um formato padrão para descrever a estrutura e os endpoints de uma API RESTful. Essa especificação é escrita em formato JSON ou YAML e fornece informações sobre os recursos, parâmetros, respostas, autenticação, versões suportadas e outras informações relevantes da API."
   ]
  },
  {
   "cell_type": "markdown",
   "id": "a3020816",
   "metadata": {
    "slideshow": {
     "slide_type": "slide"
    }
   },
   "source": [
    "# Parte: 03. API - Conceitos"
   ]
  },
  {
   "cell_type": "markdown",
   "id": "992c9c70",
   "metadata": {
    "slideshow": {
     "slide_type": "subslide"
    }
   },
   "source": [
    "A seguir veremos sobre os tópicos que envolvem os conceitos básicos de API"
   ]
  },
  {
   "cell_type": "markdown",
   "id": "d58e67d1",
   "metadata": {
    "slideshow": {
     "slide_type": "subslide"
    }
   },
   "source": [
    "## Parte: 3.1. O que é uma API?"
   ]
  },
  {
   "cell_type": "markdown",
   "id": "a15af37c",
   "metadata": {
    "slideshow": {
     "slide_type": "subslide"
    }
   },
   "source": [
    "<img src=\"imagens/Slide7.png\">"
   ]
  },
  {
   "cell_type": "markdown",
   "id": "e0fa265d",
   "metadata": {
    "slideshow": {
     "slide_type": "subslide"
    }
   },
   "source": [
    "<img src=\"imagens/Slide8.png\">"
   ]
  },
  {
   "cell_type": "markdown",
   "id": "5ab29e69",
   "metadata": {
    "slideshow": {
     "slide_type": "subslide"
    }
   },
   "source": [
    "<img src=\"imagens/Slide9.png\">"
   ]
  },
  {
   "cell_type": "markdown",
   "id": "7d016cf6",
   "metadata": {
    "slideshow": {
     "slide_type": "subslide"
    }
   },
   "source": [
    "<img src=\"imagens/Slide10.png\">"
   ]
  },
  {
   "cell_type": "markdown",
   "id": "68571faf",
   "metadata": {
    "slideshow": {
     "slide_type": "subslide"
    }
   },
   "source": [
    "<img src=\"imagens/Slide11.png\">"
   ]
  },
  {
   "cell_type": "markdown",
   "id": "bfefc95a",
   "metadata": {
    "slideshow": {
     "slide_type": "subslide"
    }
   },
   "source": [
    "<img src=\"imagens/Slide12.png\">"
   ]
  },
  {
   "cell_type": "markdown",
   "id": "c730725d",
   "metadata": {
    "slideshow": {
     "slide_type": "subslide"
    }
   },
   "source": [
    "<img src=\"imagens/Slide13.png\">"
   ]
  },
  {
   "cell_type": "markdown",
   "id": "9f4ace60",
   "metadata": {
    "slideshow": {
     "slide_type": "subslide"
    }
   },
   "source": [
    "<img src=\"imagens/Slide14.png\">"
   ]
  },
  {
   "cell_type": "markdown",
   "id": "636b8545",
   "metadata": {
    "slideshow": {
     "slide_type": "subslide"
    }
   },
   "source": [
    "<img src=\"imagens/Slide15.png\">"
   ]
  },
  {
   "cell_type": "markdown",
   "id": "bde94649",
   "metadata": {
    "slideshow": {
     "slide_type": "subslide"
    }
   },
   "source": [
    "<img src=\"imagens/Slide16.png\">"
   ]
  },
  {
   "cell_type": "markdown",
   "id": "5ec296c1",
   "metadata": {
    "slideshow": {
     "slide_type": "subslide"
    }
   },
   "source": [
    "<img src=\"imagens/Slide17.png\">"
   ]
  },
  {
   "cell_type": "markdown",
   "id": "b98f539d",
   "metadata": {
    "slideshow": {
     "slide_type": "subslide"
    }
   },
   "source": [
    "<img src=\"imagens/Slide18.png\">"
   ]
  },
  {
   "cell_type": "markdown",
   "id": "29d39467",
   "metadata": {
    "slideshow": {
     "slide_type": "subslide"
    }
   },
   "source": [
    "<img src=\"imagens/Slide19.png\">"
   ]
  },
  {
   "cell_type": "markdown",
   "id": "a9155820",
   "metadata": {
    "slideshow": {
     "slide_type": "subslide"
    }
   },
   "source": [
    "<img src=\"imagens/Slide20.png\">"
   ]
  },
  {
   "cell_type": "markdown",
   "id": "647eac2c",
   "metadata": {
    "slideshow": {
     "slide_type": "subslide"
    }
   },
   "source": [
    "<img src=\"imagens/Slide21.png\">"
   ]
  },
  {
   "cell_type": "markdown",
   "id": "450e82f7",
   "metadata": {
    "slideshow": {
     "slide_type": "subslide"
    }
   },
   "source": [
    "## Parte: 3.2. Como funciona uma API?"
   ]
  },
  {
   "cell_type": "markdown",
   "id": "77de86f1",
   "metadata": {
    "slideshow": {
     "slide_type": "subslide"
    }
   },
   "source": [
    "<img src=\"imagens/Slide22.png\">"
   ]
  },
  {
   "cell_type": "markdown",
   "id": "1c67edd9",
   "metadata": {
    "slideshow": {
     "slide_type": "subslide"
    }
   },
   "source": [
    "<img src=\"imagens/Slide23.png\">"
   ]
  },
  {
   "cell_type": "markdown",
   "id": "0320279c",
   "metadata": {
    "slideshow": {
     "slide_type": "subslide"
    }
   },
   "source": [
    "<img src=\"imagens/Slide24.png\">"
   ]
  },
  {
   "cell_type": "markdown",
   "id": "35e420ac",
   "metadata": {
    "slideshow": {
     "slide_type": "subslide"
    }
   },
   "source": [
    "<img src=\"imagens/Slide25.png\">"
   ]
  },
  {
   "cell_type": "markdown",
   "id": "d1082bd2",
   "metadata": {
    "slideshow": {
     "slide_type": "subslide"
    }
   },
   "source": [
    "<img src=\"imagens/Slide26.png\">"
   ]
  },
  {
   "cell_type": "markdown",
   "id": "fca778c4",
   "metadata": {
    "slideshow": {
     "slide_type": "subslide"
    }
   },
   "source": [
    "<img src=\"imagens/Slide27.png\">"
   ]
  },
  {
   "cell_type": "markdown",
   "id": "60f9fb70",
   "metadata": {
    "slideshow": {
     "slide_type": "subslide"
    }
   },
   "source": [
    "<img src=\"imagens/Slide28.png\">"
   ]
  },
  {
   "cell_type": "markdown",
   "id": "f893607c",
   "metadata": {
    "slideshow": {
     "slide_type": "subslide"
    }
   },
   "source": [
    "<img src=\"imagens/Slide29.png\">"
   ]
  },
  {
   "cell_type": "markdown",
   "id": "2aaa2fc5",
   "metadata": {
    "slideshow": {
     "slide_type": "subslide"
    }
   },
   "source": [
    "<img src=\"imagens/Slide30.png\">"
   ]
  },
  {
   "cell_type": "markdown",
   "id": "c63d699d",
   "metadata": {
    "slideshow": {
     "slide_type": "subslide"
    }
   },
   "source": [
    "<img src=\"imagens/Slide31.png\">"
   ]
  },
  {
   "cell_type": "markdown",
   "id": "e237e1ac",
   "metadata": {
    "slideshow": {
     "slide_type": "subslide"
    }
   },
   "source": [
    "## Parte: 3.3. Mensagens - JSON e XML"
   ]
  },
  {
   "cell_type": "markdown",
   "id": "042532ab",
   "metadata": {
    "slideshow": {
     "slide_type": "subslide"
    }
   },
   "source": [
    "<img src=\"imagens/Slide32.png\">"
   ]
  },
  {
   "cell_type": "markdown",
   "id": "4d708944",
   "metadata": {
    "slideshow": {
     "slide_type": "subslide"
    }
   },
   "source": [
    "<img src=\"imagens/Slide33.png\">"
   ]
  },
  {
   "cell_type": "markdown",
   "id": "305de1ef",
   "metadata": {
    "slideshow": {
     "slide_type": "subslide"
    }
   },
   "source": [
    "<img src=\"imagens/Slide34.png\">"
   ]
  },
  {
   "cell_type": "markdown",
   "id": "f040b18f",
   "metadata": {
    "slideshow": {
     "slide_type": "subslide"
    }
   },
   "source": [
    "<img src=\"imagens/Slide35.png\">"
   ]
  },
  {
   "cell_type": "markdown",
   "id": "30b0f351",
   "metadata": {
    "slideshow": {
     "slide_type": "subslide"
    }
   },
   "source": [
    "## Parte: 3.4. API - Requisições Básicas"
   ]
  },
  {
   "cell_type": "markdown",
   "id": "f3e9f869",
   "metadata": {
    "slideshow": {
     "slide_type": "subslide"
    }
   },
   "source": [
    "<img src=\"imagens/Slide36.png\">"
   ]
  },
  {
   "cell_type": "markdown",
   "id": "4b64dbf1",
   "metadata": {
    "slideshow": {
     "slide_type": "subslide"
    }
   },
   "source": [
    "<img src=\"imagens/Slide37.png\">"
   ]
  },
  {
   "cell_type": "markdown",
   "id": "b469dbfd",
   "metadata": {
    "slideshow": {
     "slide_type": "subslide"
    }
   },
   "source": [
    "<img src=\"imagens/Slide38.png\">"
   ]
  },
  {
   "cell_type": "markdown",
   "id": "448748f4",
   "metadata": {
    "slideshow": {
     "slide_type": "subslide"
    }
   },
   "source": [
    "## Parte: 3.5. API - Endpints"
   ]
  },
  {
   "cell_type": "markdown",
   "id": "ae7bae34",
   "metadata": {
    "slideshow": {
     "slide_type": "subslide"
    }
   },
   "source": [
    "<img src=\"imagens/Slide39.png\">"
   ]
  },
  {
   "cell_type": "markdown",
   "id": "ccb9499d",
   "metadata": {
    "slideshow": {
     "slide_type": "subslide"
    }
   },
   "source": [
    "<img src=\"imagens/Slide40.png\">"
   ]
  },
  {
   "cell_type": "markdown",
   "id": "b1754fee",
   "metadata": {
    "slideshow": {
     "slide_type": "subslide"
    }
   },
   "source": [
    "<img src=\"imagens/Slide41.png\">"
   ]
  },
  {
   "cell_type": "markdown",
   "id": "c82892ad",
   "metadata": {
    "slideshow": {
     "slide_type": "subslide"
    }
   },
   "source": [
    "<img src=\"imagens/Slide42.png\">"
   ]
  },
  {
   "cell_type": "markdown",
   "id": "10e48108",
   "metadata": {
    "slideshow": {
     "slide_type": "subslide"
    }
   },
   "source": [
    "<img src=\"imagens/Slide43.png\">"
   ]
  },
  {
   "cell_type": "markdown",
   "id": "c16262a0",
   "metadata": {
    "slideshow": {
     "slide_type": "subslide"
    }
   },
   "source": [
    "<img src=\"imagens/Slide44.png\">"
   ]
  },
  {
   "cell_type": "markdown",
   "id": "f8f32bf7",
   "metadata": {
    "slideshow": {
     "slide_type": "slide"
    }
   },
   "source": [
    "# Parte: 04. API - Outras Informações"
   ]
  },
  {
   "cell_type": "markdown",
   "id": "1fb39630",
   "metadata": {
    "slideshow": {
     "slide_type": "subslide"
    }
   },
   "source": [
    "<img src=\"imagens/Slide45.png\">"
   ]
  },
  {
   "cell_type": "markdown",
   "id": "12d56328",
   "metadata": {
    "slideshow": {
     "slide_type": "subslide"
    }
   },
   "source": [
    "<img src=\"imagens/Slide46.png\">"
   ]
  },
  {
   "cell_type": "markdown",
   "id": "d59ec1e4",
   "metadata": {
    "slideshow": {
     "slide_type": "subslide"
    }
   },
   "source": [
    "<img src=\"imagens/Slide47.png\">"
   ]
  },
  {
   "cell_type": "markdown",
   "id": "dc99e4fd",
   "metadata": {
    "slideshow": {
     "slide_type": "subslide"
    }
   },
   "source": [
    "<img src=\"imagens/Slide48.png\">"
   ]
  },
  {
   "cell_type": "markdown",
   "id": "bc890150",
   "metadata": {
    "slideshow": {
     "slide_type": "subslide"
    }
   },
   "source": [
    "<img src=\"imagens/Slide49.png\">"
   ]
  },
  {
   "cell_type": "markdown",
   "id": "944f254d",
   "metadata": {
    "slideshow": {
     "slide_type": "subslide"
    }
   },
   "source": [
    "<img src=\"imagens/Slide50.png\">"
   ]
  },
  {
   "cell_type": "markdown",
   "id": "bb48dfb6",
   "metadata": {
    "slideshow": {
     "slide_type": "subslide"
    }
   },
   "source": [
    "<img src=\"imagens/Slide51.png\">"
   ]
  },
  {
   "cell_type": "markdown",
   "id": "6e86fa4c",
   "metadata": {
    "slideshow": {
     "slide_type": "subslide"
    }
   },
   "source": [
    "* Para a realização dos exercícios propostos a seguir, usaremos como base as informações relacionadas aos aeroportos abaixo"
   ]
  },
  {
   "cell_type": "markdown",
   "id": "c761ba7a",
   "metadata": {
    "slideshow": {
     "slide_type": "subslide"
    }
   },
   "source": [
    "<img src=\"imagens/Slide52.png\">"
   ]
  },
  {
   "cell_type": "markdown",
   "id": "0199760c",
   "metadata": {
    "slideshow": {
     "slide_type": "subslide"
    }
   },
   "source": [
    "* Este exercício tem como base a seguinte estrutura: Host + Endpoint + Parâmetros"
   ]
  },
  {
   "cell_type": "markdown",
   "id": "f08acc91",
   "metadata": {
    "slideshow": {
     "slide_type": "subslide"
    }
   },
   "source": [
    "<img src=\"imagens/Slide53.png\">"
   ]
  },
  {
   "cell_type": "markdown",
   "id": "3494c0b6",
   "metadata": {
    "slideshow": {
     "slide_type": "subslide"
    }
   },
   "source": [
    "* Acesse a seguinte URL: https://rapidapi.com/hub<br><Br>\n",
    "* Afim de conhecimento, explore as oções disponíveis<br><br>\n",
    "    \n",
    " **IMPORTANTE:** Para rodar a API você precisará fazer o login no site. Pode utilizar sua conta do google."
   ]
  },
  {
   "cell_type": "markdown",
   "id": "4517ce0d",
   "metadata": {
    "slideshow": {
     "slide_type": "slide"
    }
   },
   "source": [
    "<img src=\"imagens/Slide54.png\">"
   ]
  },
  {
   "cell_type": "markdown",
   "id": "5059a142",
   "metadata": {
    "slideshow": {
     "slide_type": "subslide"
    }
   },
   "source": [
    "* Iremos trabalhar com a **Flight Data APIs** Airport Info: https://rapidapi.com/collection/flight-data-apis <br><br>\n",
    "\n",
    "* Esta API fornece um Banco de dados mais rápido e completo de códigos e dados de aeroportos, incluindo coordenadas geográficas, endereço, número de telefone, site e muito mais\n"
   ]
  },
  {
   "cell_type": "markdown",
   "id": "fb35c748",
   "metadata": {
    "slideshow": {
     "slide_type": "subslide"
    }
   },
   "source": [
    "<img src=\"imagens/Slide55.png\">"
   ]
  },
  {
   "cell_type": "markdown",
   "id": "628ee7cc",
   "metadata": {
    "slideshow": {
     "slide_type": "subslide"
    }
   },
   "source": [
    "* Selecione o **Aiport Info**"
   ]
  },
  {
   "cell_type": "markdown",
   "id": "fb8e4364",
   "metadata": {
    "slideshow": {
     "slide_type": "subslide"
    }
   },
   "source": [
    "<img src=\"imagens/Slide56.png\">"
   ]
  },
  {
   "cell_type": "markdown",
   "id": "c14ead57",
   "metadata": {
    "slideshow": {
     "slide_type": "subslide"
    }
   },
   "source": [
    "* Através do link About, você encontrará mais detalhes sobre a API."
   ]
  },
  {
   "cell_type": "markdown",
   "id": "0268c022",
   "metadata": {
    "slideshow": {
     "slide_type": "subslide"
    }
   },
   "source": [
    "<img src=\"imagens/Slide57.png\">"
   ]
  },
  {
   "cell_type": "markdown",
   "id": "483f747d",
   "metadata": {
    "slideshow": {
     "slide_type": "subslide"
    }
   },
   "source": [
    "<img src=\"imagens/Slide58.png\">"
   ]
  },
  {
   "cell_type": "markdown",
   "id": "07cf8960",
   "metadata": {
    "slideshow": {
     "slide_type": "subslide"
    }
   },
   "source": [
    "* Abra o aplicativo Postman e execute a URI a partir do GET e veja os resultados."
   ]
  },
  {
   "cell_type": "markdown",
   "id": "fa41c3eb",
   "metadata": {
    "slideshow": {
     "slide_type": "subslide"
    }
   },
   "source": [
    "<img src=\"imagens/Slide59.png\">"
   ]
  },
  {
   "cell_type": "markdown",
   "id": "3d32732d",
   "metadata": {
    "slideshow": {
     "slide_type": "subslide"
    }
   },
   "source": [
    "<img src=\"imagens/Slide59_1.png\">"
   ]
  },
  {
   "cell_type": "code",
   "execution_count": null,
   "id": "da70afef",
   "metadata": {
    "slideshow": {
     "slide_type": "subslide"
    }
   },
   "outputs": [],
   "source": []
  },
  {
   "cell_type": "markdown",
   "id": "14a51722",
   "metadata": {
    "slideshow": {
     "slide_type": "subslide"
    }
   },
   "source": [
    "<img src=\"imagens/Slide60.png\">"
   ]
  },
  {
   "cell_type": "markdown",
   "id": "8edc0721",
   "metadata": {
    "slideshow": {
     "slide_type": "subslide"
    }
   },
   "source": [
    "<img src=\"imagens/Slide61.png\">"
   ]
  },
  {
   "cell_type": "code",
   "execution_count": null,
   "id": "564493f2",
   "metadata": {},
   "outputs": [],
   "source": []
  }
 ],
 "metadata": {
  "celltoolbar": "Slideshow",
  "kernelspec": {
   "display_name": "Python 3 (ipykernel)",
   "language": "python",
   "name": "python3"
  },
  "language_info": {
   "codemirror_mode": {
    "name": "ipython",
    "version": 3
   },
   "file_extension": ".py",
   "mimetype": "text/x-python",
   "name": "python",
   "nbconvert_exporter": "python",
   "pygments_lexer": "ipython3",
   "version": "3.11.4"
  }
 },
 "nbformat": 4,
 "nbformat_minor": 5
}
